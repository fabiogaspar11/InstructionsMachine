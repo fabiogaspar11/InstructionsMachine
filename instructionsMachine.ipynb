{
 "cells": [
  {
   "cell_type": "code",
   "execution_count": null,
   "metadata": {},
   "outputs": [],
   "source": [
    "# Esta máquina deve suportar as seguintes instruções:\n",
    "\n",
    "# PUSH X: Empurra o valor X para a stack.\n",
    "# ADD: Adiciona os dois valores no topo da stack e empurra o resultado de volta.\n",
    "# SUB: Subtrai o valor no topo da stack do próximo valor e empurra o resultado de volta.\n",
    "# MUL: Multiplica os dois valores no topo da stack e empurra o resultado de volta.\n",
    "# DIV: Divide o valor no topo da stack pelo próximo valor e empurra o resultado de volta.\n",
    "# DUP: Duplica o valor no topo da stack.\n",
    "# POP: Remove o valor no topo da stack.\n",
    "# SWAP: Inverte a posição dos dois valores no topo da stack.\n",
    "# ​​Exemplo de entrada: \"PUSH 3 PUSH 4 ADD DUP MUL POP SUB\"\n",
    "#  Neste exemplo, a máquina começa com a stack vazia. Os comandos são executados sequencialmente, resultando no valor final da stack.\n",
    "\n",
    "# 1º instrução: PUSH 3 => [3]\n",
    "# 2º instrução: PUSH 4 => [3, 4]\n",
    "# 3º instrução: ADD      => [7]\n",
    "# 4º instrução: DUP      => [7, 7]\n",
    "# 5º instrução: MUL     => [49]\n",
    "# 6º instrução: POP      => []\n",
    "# Portanto, o resultado final é 49."
   ]
  },
  {
   "cell_type": "code",
   "execution_count": null,
   "metadata": {},
   "outputs": [],
   "source": [
    "\n",
    "#Functions to execute the commands\n",
    "def push(stack, x):\n",
    "    stack.append(x)\n",
    "\n",
    "def add(stack):\n",
    "    if len(stack) > 1: stack.append(stack.pop() + stack.pop()) \n",
    "    else: print(\"Error: Not enough values to add\")\n",
    "\n",
    "\n",
    "def sub(stack):\n",
    "    if len(stack) > 1: stack.append(stack.pop() - stack.pop()) \n",
    "    else: print(\"Error: Not enough values to subtract\")\n",
    "\n",
    "\n",
    "def mul(stack):\n",
    "    if len(stack) > 1: stack.append(stack.pop() * stack.pop())\n",
    "    else: print(\"Error: Not enough values to multiply\")\n",
    "\n",
    "\n",
    "def div(stack):\n",
    "    if len(stack) > 1: stack.append(int(stack.pop() / stack.pop()))\n",
    "    else: print(\"Error: Not enough values to divide\")\n",
    "\n",
    "\n",
    "def dup(stack):  \n",
    "    if len(stack) > 0: stack.append(stack[-1])\n",
    "    else: print(\"Error: Stack is empty\")\n",
    "\n",
    "\n",
    "def pop(stack):\n",
    "    if len(stack) > 0: stack.pop()\n",
    "    else: print(\"Error: Stack is empty\")\n",
    "\n",
    "\n",
    "def swap(stack):\n",
    "    if len(stack) > 1: stack.append(stack.pop(-2))\n",
    "    else: print(\"Error: Stack is empty\")"
   ]
  },
  {
   "cell_type": "code",
   "execution_count": null,
   "metadata": {},
   "outputs": [],
   "source": [
    "#Execute the commands\n",
    "def execute(entry):\n",
    "    stack = []\n",
    "    entry = entry.upper().split()\n",
    "\n",
    "    i = 0\n",
    "    while i < len(entry):\n",
    "        if entry[i] == \"PUSH\":\n",
    "            try:\n",
    "                if(len(entry)>1): # Command \"PUSH\" lonely would give an error if there is no value to push\n",
    "                    push(stack,int(entry[i+1])) \n",
    "                i += 1\n",
    "            except ValueError:\n",
    "                print(\"Invalid push value\")\n",
    "        elif entry[i] == \"ADD\":\n",
    "            add(stack)\n",
    "        elif entry[i] == \"SUB\":\n",
    "            sub(stack)\n",
    "        elif entry[i] == \"MUL\":\n",
    "            mul(stack)\n",
    "        elif entry[i] == \"DIV\":\n",
    "            div(stack)\n",
    "        elif entry[i] == \"DUP\":\n",
    "            dup(stack)\n",
    "        elif entry[i] == \"POP\":\n",
    "            pop(stack)\n",
    "        elif entry[i] == \"SWAP\":\n",
    "            swap(stack)\n",
    "        else:\n",
    "            print(\"Invalid command\")\n",
    "        \n",
    "        # print(stack)\n",
    "        i += 1\n",
    "        \n",
    "    return stack"
   ]
  },
  {
   "cell_type": "code",
   "execution_count": null,
   "metadata": {},
   "outputs": [],
   "source": [
    "#Get the entry from the user\n",
    "entry = input(\"Enter the commands: \")\n",
    "print(\"Entry:\", entry)\n",
    "\n",
    "#Execute instructions\n",
    "print(\"Final Stack:\", execute(entry))"
   ]
  },
  {
   "cell_type": "markdown",
   "metadata": {},
   "source": [
    "Tests"
   ]
  },
  {
   "cell_type": "code",
   "execution_count": 6,
   "metadata": {},
   "outputs": [],
   "source": [
    "def test_case(title, entry, expected_result):\n",
    "    result = execute(entry)\n",
    "    if result == expected_result:\n",
    "        print(f\"{title}: PASS\")\n",
    "    else:\n",
    "        print(f\"{title}: FAIL. Expected {expected_result}, got {result}\")"
   ]
  },
  {
   "cell_type": "code",
   "execution_count": 7,
   "metadata": {},
   "outputs": [
    {
     "name": "stdout",
     "output_type": "stream",
     "text": [
      "Test 1: Basic Operations: PASS\n",
      "Error: Not enough values to subtract\n",
      "Test 2: All Operations: PASS\n",
      "Invalid push value\n",
      "Invalid push value\n",
      "Error: Stack is empty\n",
      "Error: Not enough values to add\n",
      "Error: Not enough values to subtract\n",
      "Error: Not enough values to multiply\n",
      "Error: Stack is empty\n",
      "Error: Not enough values to divide\n",
      "Test 3: Empty Stack: PASS\n",
      "Invalid push value\n",
      "Invalid push value\n",
      "Error: Stack is empty\n",
      "Error: Not enough values to add\n",
      "Error: Not enough values to subtract\n",
      "Error: Not enough values to multiply\n",
      "Error: Stack is empty\n",
      "Error: Not enough values to divide\n",
      "Invalid command\n",
      "Test 4: Invalid Commands: PASS\n"
     ]
    }
   ],
   "source": [
    "\n",
    "test_case(\"Test 1: Basic Operations\", \"PUSH 3 PUSH 4 ADD DUP MUL\", [49])\n",
    "test_case(\"Test 2: All Operations\", \"PUSH 5 PUSH 10 ADD DUP MUL PUSH 225 DIV SUB\", [1])\n",
    "test_case(\"Test 3: Empty Stack\", \"PUSH PUSH SWAP ADD SUB MUL POP DIV Push 4\", [4])\n",
    "test_case(\"Test 4: Invalid Commands\", \"PUSH PUSH SWAP ADD SUB MUL POP DIV invalidCommand push 0\", [0])"
   ]
  }
 ],
 "metadata": {
  "kernelspec": {
   "display_name": "base",
   "language": "python",
   "name": "python3"
  },
  "language_info": {
   "codemirror_mode": {
    "name": "ipython",
    "version": 3
   },
   "file_extension": ".py",
   "mimetype": "text/x-python",
   "name": "python",
   "nbconvert_exporter": "python",
   "pygments_lexer": "ipython3",
   "version": "3.8.18"
  },
  "orig_nbformat": 4
 },
 "nbformat": 4,
 "nbformat_minor": 2
}
